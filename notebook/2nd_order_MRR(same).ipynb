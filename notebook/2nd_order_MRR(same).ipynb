{
 "cells": [
  {
   "cell_type": "code",
   "execution_count": 1,
   "metadata": {},
   "outputs": [],
   "source": [
    "import numpy as np\n",
    "from scipy.signal import argrelmax, argrelmin"
   ]
  },
  {
   "cell_type": "code",
   "execution_count": 2,
   "metadata": {
    "scrolled": true
   },
   "outputs": [],
   "source": [
    "# 減衰定数\n",
    "a1 = 1\n",
    "a2 = 1\n",
    "\n",
    "# 結合効率\n",
    "k0 = 0.65\n",
    "k1 = 0.17\n",
    "k2 = 0.43\n",
    "\n",
    "# 結合損\n",
    "eta = 1\n",
    "\n",
    "# リング周長\n",
    "L = 2.284e-4\n",
    "\n",
    "# 屈折率\n",
    "n = 3.3938\n",
    "\n",
    "# 屈折率変化\n",
    "dn1 = 0\n",
    "dn2 = 0\n",
    "dn3 = 0\n",
    "\n",
    "# 波長レンジ\n",
    "l = np.arange(1545e-9, 1555e-9, 1e-12)"
   ]
  },
  {
   "cell_type": "markdown",
   "metadata": {},
   "source": [
    "$$\n",
    "C(K) = \\frac{1}{-i \\cdot \\eta \\cdot \\sqrt{K}} \\cdot\n",
    "\\begin{bmatrix}\n",
    "1 & - \\eta \\cdot \\sqrt{\\eta - K} \\\\\n",
    "(\\sqrt{\\eta - K}) \\cdot \\eta & - \\eta^2\n",
    "\\end{bmatrix}\n",
    "$$"
   ]
  },
  {
   "cell_type": "code",
   "execution_count": 3,
   "metadata": {},
   "outputs": [],
   "source": [
    "def C(k):\n",
    "    return 1 / (-1j * eta * np.sqrt(k)) * np.matrix([\n",
    "        [1, - eta * np.sqrt(eta - k)],\n",
    "        [np.sqrt(eta - k) * eta, - eta**2]\n",
    "    ])"
   ]
  },
  {
   "cell_type": "markdown",
   "metadata": {},
   "source": [
    "$$\n",
    "R(\\lambda) =\n",
    "\\begin{bmatrix}\n",
    "\\frac{e^{\\frac{i \\pi \\cdot L \\cdot n}{\\lambda}}}{\\sqrt{a_1}} & 0 \\\\\n",
    "0 & \\sqrt{a_1} \\cdot e^{\\frac{-i \\pi \\cdot L \\cdot n}{\\lambda}}\n",
    "\\end{bmatrix}\n",
    "$$"
   ]
  },
  {
   "cell_type": "code",
   "execution_count": 4,
   "metadata": {},
   "outputs": [],
   "source": [
    "def R(l):\n",
    "    return np.matrix([\n",
    "        [np.exp(1j * np.pi * L * n / l ) / np.sqrt(a1), 0],\n",
    "        [0, np.exp(-1j * np.pi * L * n / l ) * np.sqrt(a1)]\n",
    "    ])"
   ]
  },
  {
   "cell_type": "markdown",
   "metadata": {},
   "source": [
    "$$\n",
    "M(K_0, K_1, K_2, \\lambda) = C(K_2) \\cdot R(\\lambda) \\cdot C(K_1) \\cdot R(\\lambda) \\cdot C(K_0)\n",
    "$$"
   ]
  },
  {
   "cell_type": "code",
   "execution_count": 5,
   "metadata": {},
   "outputs": [],
   "source": [
    "def M (_k0, _k1, _k2, _l):\n",
    "    return C(_k2) * R(_l) * C(_k1) * R(_l) * C(_k0)"
   ]
  },
  {
   "cell_type": "markdown",
   "metadata": {},
   "source": [
    "$$\n",
    "D(K_0, K_1, K_2, \\lambda) = \\frac{1}{M(K_0, K_1, K_2, \\lambda)_{0,0}}\n",
    "$$"
   ]
  },
  {
   "cell_type": "code",
   "execution_count": 6,
   "metadata": {},
   "outputs": [],
   "source": [
    "def D(_k0, _k1, _k2, _l):\n",
    "    return 1 / M (_k0, _k1, _k2, _l)[0, 0]"
   ]
  },
  {
   "cell_type": "code",
   "execution_count": 7,
   "metadata": {},
   "outputs": [],
   "source": [
    "y = 20 * np.log10(np.abs(D(k0, k1, k2, l)))\n",
    "maxid = argrelmax(y, order=120)"
   ]
  },
  {
   "cell_type": "code",
   "execution_count": 8,
   "metadata": {},
   "outputs": [
    {
     "name": "stdout",
     "output_type": "stream",
     "text": [
      "FSR1: 2.9810000000822866e-09\n",
      "FSR2: 3.2210000000889115e-09\n"
     ]
    }
   ],
   "source": [
    "print(\"FSR1:\", l[maxid[0][1]] - l[maxid[0][0]] )\n",
    "print(\"FSR2:\", l[maxid[0][2]] - l[maxid[0][1]])"
   ]
  },
  {
   "cell_type": "code",
   "execution_count": 10,
   "metadata": {},
   "outputs": [
    {
     "data": {
      "image/png": "[encoded data removed]",
      "text/plain": [
       "<Figure size 432x288 with 1 Axes>"
      ]
     },
     "metadata": {
      "needs_background": "light"
     },
     "output_type": "display_data"
    }
   ],
   "source": [
    "import matplotlib.pyplot as plt\n",
    "plt.semilogx(l*1e9, y)\n",
    "plt.xlabel('Wavelength[nm]')\n",
    "plt.ylabel('Drop Port Power [dB]')\n",
    "plt.title('2nd order MRR (same perimeter)')\n",
    "plt.axis([None, None, None, 5])\n",
    "plt.grid()\n",
    "plt.show()"
   ]
  },
  {
   "cell_type": "code",
   "execution_count": null,
   "metadata": {},
   "outputs": [],
   "source": []
  }
 ],
 "metadata": {
  "kernelspec": {
   "display_name": "Python 3",
   "language": "python",
   "name": "python3"
  },
  "language_info": {
   "codemirror_mode": {
    "name": "ipython",
    "version": 3
   },
   "file_extension": ".py",
   "mimetype": "text/x-python",
   "name": "python",
   "nbconvert_exporter": "python",
   "pygments_lexer": "ipython3",
   "version": "3.7.4"
  }
 },
 "nbformat": 4,
 "nbformat_minor": 2
}
