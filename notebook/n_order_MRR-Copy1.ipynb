{
 "cells": [
  {
   "cell_type": "code",
   "execution_count": 1,
   "metadata": {},
   "outputs": [],
   "source": [
    "import numpy as np\n",
    "from scipy.signal import argrelmax, argrelmin\n",
    "from scipy import constants"
   ]
  },
  {
   "cell_type": "code",
   "execution_count": 2,
   "metadata": {
    "scrolled": true
   },
   "outputs": [],
   "source": [
    "# 減衰定数\n",
    "a = np.array([1, 1])\n",
    "\n",
    "# 結合効率\n",
    "K = np.array([0.65, 0.17, 0.43])\n",
    "\n",
    "# 結合損\n",
    "eta = 1\n",
    "\n",
    "# リング周長\n",
    "L =  np.array([2.284e-4, 2.284e-4])\n",
    "\n",
    "# 屈折率\n",
    "n = 3.3938\n",
    "\n",
    "# 屈折率変化\n",
    "dn = [0, 0, 0]\n",
    "\n",
    "# 波長レンジ\n",
    "l = np.arange(1545e-9, 1555e-9, 1e-12)"
   ]
  },
  {
   "cell_type": "markdown",
   "metadata": {},
   "source": [
    "$$\n",
    "C(K) = \\frac{1}{-i \\cdot \\eta \\cdot \\sqrt{K}} \\cdot\n",
    "\\begin{bmatrix}\n",
    "1 & - \\eta \\cdot \\sqrt{\\eta - K} \\\\\n",
    "(\\sqrt{\\eta - K}) \\cdot \\eta & - \\eta^2\n",
    "\\end{bmatrix}\n",
    "$$"
   ]
  },
  {
   "cell_type": "code",
   "execution_count": 3,
   "metadata": {},
   "outputs": [],
   "source": [
    "def C(k):\n",
    "    return 1 / (-1j * eta * np.sqrt(k)) * np.matrix([\n",
    "        [1, - eta * np.sqrt(eta - k)],\n",
    "        [np.sqrt(eta - k) * eta, - eta**2]\n",
    "    ])"
   ]
  },
  {
   "cell_type": "markdown",
   "metadata": {},
   "source": [
    "$$\n",
    "R(a, L, \\lambda) =\n",
    "\\begin{bmatrix}\n",
    "\\frac{e^{\\frac{i \\pi \\cdot L \\cdot n}{\\lambda}}}{\\sqrt{a}} & 0 \\\\\n",
    "0 & \\sqrt{a} \\cdot e^{\\frac{-i \\pi \\cdot L \\cdot n}{\\lambda}}\n",
    "\\end{bmatrix}\n",
    "$$"
   ]
  },
  {
   "cell_type": "code",
   "execution_count": 4,
   "metadata": {},
   "outputs": [],
   "source": [
    "def R(a, L, l):\n",
    "    return np.matrix([\n",
    "        [np.exp(1j * np.pi * L * n / l ) / np.sqrt(a), 0],\n",
    "        [0, np.exp(-1j * np.pi * L * n / l ) * np.sqrt(a)]\n",
    "    ])"
   ]
  },
  {
   "cell_type": "markdown",
   "metadata": {},
   "source": [
    "$$\n",
    "M(a, K, L, \\lambda) = C(K_N) R(a_N, L_N, \\lambda) C(K_{N-1}) R(a_{N-1}, L_{N-1}, \\lambda) \\cdots C(K_1) R(a_1, L_1, \\lambda) C(K_0) \\\\\n",
    "a = a_1, \\cdots , a_N \\\\\n",
    "K = K_0, \\cdots , K_N \\\\\n",
    "L = L_1, \\cdots , L_N\n",
    "$$"
   ]
  },
  {
   "cell_type": "code",
   "execution_count": 5,
   "metadata": {},
   "outputs": [],
   "source": [
    "def reverse(arr):\n",
    "    return arr[::-1]"
   ]
  },
  {
   "cell_type": "code",
   "execution_count": 6,
   "metadata": {},
   "outputs": [],
   "source": [
    "def M (a, K, L, l):\n",
    "    product = 1\n",
    "    for _K, _a, _L in zip(reverse(K[1:]), reverse(a), reverse(L)):\n",
    "        product = product * C(_K) *  R(_a, _L, l)\n",
    "    product = product * C(K[0])\n",
    "    return product"
   ]
  },
  {
   "cell_type": "markdown",
   "metadata": {},
   "source": [
    "$$\n",
    "D(a, K, L, \\lambda) = \\frac{1}{M(a, K, L, \\lambda)_{0,0}}\n",
    "$$"
   ]
  },
  {
   "cell_type": "code",
   "execution_count": 7,
   "metadata": {},
   "outputs": [],
   "source": [
    "def D(a, K, L, l):\n",
    "    return 1 / M (a, K, L, l)[0, 0]"
   ]
  },
  {
   "cell_type": "code",
   "execution_count": 8,
   "metadata": {},
   "outputs": [],
   "source": [
    "_y = 20 * np.log10(np.abs(D(a, K, L, l)))\n",
    "y = _y.reshape(_y.size)\n",
    "maxid = argrelmax(y, order=120)[0]"
   ]
  },
  {
   "cell_type": "code",
   "execution_count": 17,
   "metadata": {},
   "outputs": [
    {
     "name": "stdout",
     "output_type": "stream",
     "text": [
      "FSR1: 2.9810000000822866e-09\n",
      "FSR2: 3.2210000000889115e-09\n"
     ]
    }
   ],
   "source": [
    "print(\"FSR1:\", l[maxid[1]] - l[maxid[0]] )\n",
    "print(\"FSR2:\", l[maxid[2]] - l[maxid[1]])"
   ]
  },
  {
   "cell_type": "code",
   "execution_count": 18,
   "metadata": {},
   "outputs": [
    {
     "data": {
      "text/plain": [
       "array([-0.06718788, -0.06718779, -0.06718835])"
      ]
     },
     "execution_count": 18,
     "metadata": {},
     "output_type": "execute_result"
    }
   ],
   "source": [
    "l[maxid]\n",
    "y[maxid]"
   ]
  },
  {
   "cell_type": "code",
   "execution_count": 19,
   "metadata": {},
   "outputs": [
    {
     "data": {
      "text/plain": [
       "array([1, 0, 2])"
      ]
     },
     "execution_count": 19,
     "metadata": {},
     "output_type": "execute_result"
    }
   ],
   "source": [
    "y[maxid].argsort()[::-1]"
   ]
  },
  {
   "cell_type": "code",
   "execution_count": 20,
   "metadata": {
    "scrolled": true
   },
   "outputs": [
    {
     "ename": "NameError",
     "evalue": "name 'y_' is not defined",
     "output_type": "error",
     "traceback": [
      "\u001b[0;31m---------------------------------------------------------------------------\u001b[0m",
      "\u001b[0;31mNameError\u001b[0m                                 Traceback (most recent call last)",
      "\u001b[0;32m<ipython-input-20-bbbb22bd67e8>\u001b[0m in \u001b[0;36m<module>\u001b[0;34m\u001b[0m\n\u001b[1;32m      1\u001b[0m \u001b[0mresult_y\u001b[0m \u001b[0;34m=\u001b[0m \u001b[0mnp\u001b[0m\u001b[0;34m.\u001b[0m\u001b[0mfft\u001b[0m\u001b[0;34m.\u001b[0m\u001b[0mifft\u001b[0m\u001b[0;34m(\u001b[0m\u001b[0mnp\u001b[0m\u001b[0;34m.\u001b[0m\u001b[0mexp\u001b[0m\u001b[0;34m(\u001b[0m\u001b[0;34m-\u001b[0m\u001b[0;36m2j\u001b[0m \u001b[0;34m*\u001b[0m \u001b[0mnp\u001b[0m\u001b[0;34m.\u001b[0m\u001b[0mpi\u001b[0m \u001b[0;34m*\u001b[0m \u001b[0mconstants\u001b[0m\u001b[0;34m.\u001b[0m\u001b[0mc\u001b[0m \u001b[0;34m/\u001b[0m \u001b[0my\u001b[0m\u001b[0;34m)\u001b[0m\u001b[0;34m)\u001b[0m\u001b[0;34m\u001b[0m\u001b[0;34m\u001b[0m\u001b[0m\n\u001b[0;32m----> 2\u001b[0;31m \u001b[0mresult_x\u001b[0m \u001b[0;34m=\u001b[0m \u001b[0mnp\u001b[0m\u001b[0;34m.\u001b[0m\u001b[0marange\u001b[0m\u001b[0;34m(\u001b[0m\u001b[0my_\u001b[0m\u001b[0;34m.\u001b[0m\u001b[0msize\u001b[0m\u001b[0;34m)\u001b[0m \u001b[0;34m/\u001b[0m \u001b[0mconstants\u001b[0m\u001b[0;34m.\u001b[0m\u001b[0mc\u001b[0m \u001b[0;34m*\u001b[0m \u001b[0;36m1e12\u001b[0m\u001b[0;34m\u001b[0m\u001b[0;34m\u001b[0m\u001b[0m\n\u001b[0m",
      "\u001b[0;31mNameError\u001b[0m: name 'y_' is not defined"
     ]
    }
   ],
   "source": [
    "result_y = np.fft.ifft(np.exp(-2j * np.pi * constants.c / y))\n",
    "result_x = np.arange(y_.size) / constants.c * 1e12"
   ]
  },
  {
   "cell_type": "code",
   "execution_count": 21,
   "metadata": {
    "scrolled": false
   },
   "outputs": [
    {
     "data": {
      "image/png": "[encoded data removed]",
      "text/plain": [
       "<Figure size 432x288 with 1 Axes>"
      ]
     },
     "metadata": {
      "needs_background": "light"
     },
     "output_type": "display_data"
    }
   ],
   "source": [
    "import matplotlib.pyplot as plt\n",
    "plt.semilogx(l*1e9, y)\n",
    "plt.xlabel('Wavelength[nm]')\n",
    "plt.ylabel('Drop Port Power [dB]')\n",
    "plt.title('{} order MRR (same perimeter)'.format(L.size))\n",
    "plt.plot(l[maxid] * 1e9, y[maxid], \"ro\")\n",
    "loss1_id = y[maxid].argsort()[::-1][0]\n",
    "plt.plot(l[maxid[loss1_id]]  * 1e9, y[maxid[loss1_id]], 'bo')\n",
    "loss2_id = y[maxid].argsort()[::-1][1]\n",
    "plt.plot(l[maxid[loss2_id]]  * 1e9, y[maxid[loss2_id]], 'go')\n",
    "plt.axis([None, None, None, 5])\n",
    "plt.grid()\n",
    "plt.show()"
   ]
  },
  {
   "cell_type": "code",
   "execution_count": 22,
   "metadata": {},
   "outputs": [
    {
     "ename": "NameError",
     "evalue": "name 'result_x' is not defined",
     "output_type": "error",
     "traceback": [
      "\u001b[0;31m---------------------------------------------------------------------------\u001b[0m",
      "\u001b[0;31mNameError\u001b[0m                                 Traceback (most recent call last)",
      "\u001b[0;32m<ipython-input-22-8364945b3220>\u001b[0m in \u001b[0;36m<module>\u001b[0;34m\u001b[0m\n\u001b[0;32m----> 1\u001b[0;31m \u001b[0mplt\u001b[0m\u001b[0;34m.\u001b[0m\u001b[0mplot\u001b[0m\u001b[0;34m(\u001b[0m\u001b[0mresult_x\u001b[0m\u001b[0;34m,\u001b[0m \u001b[0mnp\u001b[0m\u001b[0;34m.\u001b[0m\u001b[0mabs\u001b[0m\u001b[0;34m(\u001b[0m\u001b[0mresult_y\u001b[0m\u001b[0;34m)\u001b[0m\u001b[0;34m)\u001b[0m\u001b[0;34m\u001b[0m\u001b[0;34m\u001b[0m\u001b[0m\n\u001b[0m\u001b[1;32m      2\u001b[0m \u001b[0;34m\u001b[0m\u001b[0m\n\u001b[1;32m      3\u001b[0m \u001b[0mplt\u001b[0m\u001b[0;34m.\u001b[0m\u001b[0mshow\u001b[0m\u001b[0;34m(\u001b[0m\u001b[0;34m)\u001b[0m\u001b[0;34m\u001b[0m\u001b[0;34m\u001b[0m\u001b[0m\n",
      "\u001b[0;31mNameError\u001b[0m: name 'result_x' is not defined"
     ]
    }
   ],
   "source": [
    "plt.plot(result_x, np.abs(result_y))\n",
    "\n",
    "plt.show()"
   ]
  },
  {
   "cell_type": "code",
   "execution_count": null,
   "metadata": {},
   "outputs": [],
   "source": []
  }
 ],
 "metadata": {
  "kernelspec": {
   "display_name": "Python 3",
   "language": "python",
   "name": "python3"
  },
  "language_info": {
   "codemirror_mode": {
    "name": "ipython",
    "version": 3
   },
   "file_extension": ".py",
   "mimetype": "text/x-python",
   "name": "python",
   "nbconvert_exporter": "python",
   "pygments_lexer": "ipython3",
   "version": "3.7.4"
  }
 },
 "nbformat": 4,
 "nbformat_minor": 2
}
